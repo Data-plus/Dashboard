{
 "cells": [
  {
   "cell_type": "code",
   "execution_count": 1,
   "metadata": {},
   "outputs": [],
   "source": [
    "from pymongo import MongoClient\n",
    "import json"
   ]
  },
  {
   "cell_type": "code",
   "execution_count": 83,
   "metadata": {},
   "outputs": [],
   "source": [
    "MONGODB_HOST = 'localhost'\n",
    "MONGODB_PORT = 27017\n",
    "DBS_NAME = 'mydb'\n",
    "COLLECTION_NAME = 'projects'\n",
    "FIELDS = \"FeatureCollection\""
   ]
  },
  {
   "cell_type": "code",
   "execution_count": 103,
   "metadata": {},
   "outputs": [],
   "source": [
    "def dashboard_projects():\n",
    "    connection = MongoClient(MONGODB_HOST, MONGODB_PORT)\n",
    "    collection = connection[DBS_NAME][COLLECTION_NAME]\n",
    "    projects = collection.find_one({\"type\": \"FeatureCollection\"}, {\"_id\":0})\n",
    "\n",
    "    return projects"
   ]
  },
  {
   "cell_type": "code",
   "execution_count": 104,
   "metadata": {
    "scrolled": true
   },
   "outputs": [
    {
     "data": {
      "text/plain": [
       "{'type': 'FeatureCollection',\n",
       " 'features': [{'type': 'Feature',\n",
       "   'geometry': {'type': 'Point',\n",
       "    'coordinates': [144.965463853978, -37.8077644149636]},\n",
       "   'properties': {'FIELD1': 0,\n",
       "    'Theme': 'Place Of Assembly',\n",
       "    'Sub Theme': 'Art Gallery/Museum',\n",
       "    'Feature Name': 'Old Melbourne Gaol Crime & Justice Experience'}},\n",
       "  {'type': 'Feature',\n",
       "   'geometry': {'type': 'Point',\n",
       "    'coordinates': [144.953478052064, -37.8242574266145]},\n",
       "   'properties': {'FIELD1': 1,\n",
       "    'Theme': 'Place Of Assembly',\n",
       "    'Sub Theme': 'Art Gallery/Museum',\n",
       "    'Feature Name': 'Polly Woodside'}},\n",
       "  {'type': 'Feature',\n",
       "   'geometry': {'type': 'Point',\n",
       "    'coordinates': [144.967252924593, -37.8266045432686]},\n",
       "   'properties': {'FIELD1': 2,\n",
       "    'Theme': 'Place Of Assembly',\n",
       "    'Sub Theme': 'Art Gallery/Museum',\n",
       "    'Feature Name': 'Australian Centre for Contemporary Art'}},\n",
       "  {'type': 'Feature',\n",
       "   'geometry': {'type': 'Point',\n",
       "    'coordinates': [144.968837288153, -37.8219947335768]},\n",
       "   'properties': {'FIELD1': 3,\n",
       "    'Theme': 'Place Of Assembly',\n",
       "    'Sub Theme': 'Art Gallery/Museum',\n",
       "    'Feature Name': 'Victorian Arts Centre'}},\n",
       "  {'type': 'Feature',\n",
       "   'geometry': {'type': 'Point',\n",
       "    'coordinates': [144.969899048343, -37.8174831423197]},\n",
       "   'properties': {'FIELD1': 4,\n",
       "    'Theme': 'Place Of Assembly',\n",
       "    'Sub Theme': 'Art Gallery/Museum',\n",
       "    'Feature Name': 'The Ian Potter Centre: NGV Australia'}},\n",
       "  {'type': 'Feature',\n",
       "   'geometry': {'type': 'Point',\n",
       "    'coordinates': [144.9839700954, -37.8188662730911]},\n",
       "   'properties': {'FIELD1': 5,\n",
       "    'Theme': 'Place Of Assembly',\n",
       "    'Sub Theme': 'Art Gallery/Museum',\n",
       "    'Feature Name': 'Thoroughbred Racing Gallery'}},\n",
       "  {'type': 'Feature',\n",
       "   'geometry': {'type': 'Point',\n",
       "    'coordinates': [144.948496661709, -37.8213744301481]},\n",
       "   'properties': {'FIELD1': 6,\n",
       "    'Theme': 'Place Of Assembly',\n",
       "    'Sub Theme': 'Art Gallery/Museum',\n",
       "    'Feature Name': 'Fox Classic Car Collection'}},\n",
       "  {'type': 'Feature',\n",
       "   'geometry': {'type': 'Point',\n",
       "    'coordinates': [144.971690718887, -37.8035518129299]},\n",
       "   'properties': {'FIELD1': 7,\n",
       "    'Theme': 'Place Of Assembly',\n",
       "    'Sub Theme': 'Art Gallery/Museum',\n",
       "    'Feature Name': 'Melbourne Museum'}},\n",
       "  {'type': 'Feature',\n",
       "   'geometry': {'type': 'Point',\n",
       "    'coordinates': [144.984669809381, -37.8189544909462]},\n",
       "   'properties': {'FIELD1': 8,\n",
       "    'Theme': 'Place Of Assembly',\n",
       "    'Sub Theme': 'Art Gallery/Museum',\n",
       "    'Feature Name': 'National Sports Museum'}},\n",
       "  {'type': 'Feature',\n",
       "   'geometry': {'type': 'Point',\n",
       "    'coordinates': [144.980554992725, -37.8145407488014]},\n",
       "   'properties': {'FIELD1': 9,\n",
       "    'Theme': 'Place Of Assembly',\n",
       "    'Sub Theme': 'Art Gallery/Museum',\n",
       "    'Feature Name': \"Sinclair's Cottage\"}},\n",
       "  {'type': 'Feature',\n",
       "   'geometry': {'type': 'Point',\n",
       "    'coordinates': [144.954039975197, -37.8222182774409]},\n",
       "   'properties': {'FIELD1': 10,\n",
       "    'Theme': 'Place Of Assembly',\n",
       "    'Sub Theme': 'Art Gallery/Museum',\n",
       "    'Feature Name': 'Victoria Police Museum'}},\n",
       "  {'type': 'Feature',\n",
       "   'geometry': {'type': 'Point',\n",
       "    'coordinates': [144.960426777129, -37.8191798798062]},\n",
       "   'properties': {'FIELD1': 11,\n",
       "    'Theme': 'Place Of Assembly',\n",
       "    'Sub Theme': 'Art Gallery/Museum',\n",
       "    'Feature Name': 'Immigration Museum'}},\n",
       "  {'type': 'Feature',\n",
       "   'geometry': {'type': 'Point',\n",
       "    'coordinates': [144.975373745366, -37.8085761281612]},\n",
       "   'properties': {'FIELD1': 12,\n",
       "    'Theme': 'Place Of Assembly',\n",
       "    'Sub Theme': 'Art Gallery/Museum',\n",
       "    'Feature Name': 'Fire Services Museum Victoria'}},\n",
       "  {'type': 'Feature',\n",
       "   'geometry': {'type': 'Point',\n",
       "    'coordinates': [144.964156669702, -37.7973939595503]},\n",
       "   'properties': {'FIELD1': 13,\n",
       "    'Theme': 'Place Of Assembly',\n",
       "    'Sub Theme': 'Art Gallery/Museum',\n",
       "    'Feature Name': 'The Ian Potter Museum Of Art'}},\n",
       "  {'type': 'Feature',\n",
       "   'geometry': {'type': 'Point',\n",
       "    'coordinates': [144.954027907736, -37.8133854259085]},\n",
       "   'properties': {'FIELD1': 14,\n",
       "    'Theme': 'Place Of Assembly',\n",
       "    'Sub Theme': 'Art Gallery/Museum',\n",
       "    'Feature Name': 'Koorie Heritage Trust Inc'}},\n",
       "  {'type': 'Feature',\n",
       "   'geometry': {'type': 'Point',\n",
       "    'coordinates': [144.979471339826, -37.8144604899837]},\n",
       "   'properties': {'FIELD1': 15,\n",
       "    'Theme': 'Place Of Assembly',\n",
       "    'Sub Theme': 'Art Gallery/Museum',\n",
       "    'Feature Name': \"Cooks' Cottage\"}},\n",
       "  {'type': 'Feature',\n",
       "   'geometry': {'type': 'Point',\n",
       "    'coordinates': [144.971521914952, -37.80460262432]},\n",
       "   'properties': {'FIELD1': 16,\n",
       "    'Theme': 'Place Of Assembly',\n",
       "    'Sub Theme': 'Art Gallery/Museum',\n",
       "    'Feature Name': 'Royal Exhibition Building'}},\n",
       "  {'type': 'Feature',\n",
       "   'geometry': {'type': 'Point',\n",
       "    'coordinates': [144.969070431323, -37.8176107327202]},\n",
       "   'properties': {'FIELD1': 17,\n",
       "    'Theme': 'Place Of Assembly',\n",
       "    'Sub Theme': 'Art Gallery/Museum',\n",
       "    'Feature Name': 'Australian Centre For The Moving Image (ACMI)'}},\n",
       "  {'type': 'Feature',\n",
       "   'geometry': {'type': 'Point',\n",
       "    'coordinates': [144.96923385414, -37.8107686127655]},\n",
       "   'properties': {'FIELD1': 18,\n",
       "    'Theme': 'Place Of Assembly',\n",
       "    'Sub Theme': 'Art Gallery/Museum',\n",
       "    'Feature Name': 'The Museum Of Australian Chinese History'}}]}"
      ]
     },
     "execution_count": 104,
     "metadata": {},
     "output_type": "execute_result"
    }
   ],
   "source": [
    "dashboard_projects()"
   ]
  },
  {
   "cell_type": "code",
   "execution_count": null,
   "metadata": {},
   "outputs": [],
   "source": []
  },
  {
   "cell_type": "code",
   "execution_count": null,
   "metadata": {},
   "outputs": [],
   "source": []
  },
  {
   "cell_type": "code",
   "execution_count": 175,
   "metadata": {},
   "outputs": [],
   "source": [
    "data ={'data': '{\"lng\":144.97026090999117,\"lat\":-37.81081859384984}'}"
   ]
  },
  {
   "cell_type": "code",
   "execution_count": 179,
   "metadata": {},
   "outputs": [],
   "source": [
    "ss = json.loads(data['data'])"
   ]
  },
  {
   "cell_type": "code",
   "execution_count": 181,
   "metadata": {},
   "outputs": [
    {
     "data": {
      "text/plain": [
       "[144.97026090999117, -37.81081859384984]"
      ]
     },
     "execution_count": 181,
     "metadata": {},
     "output_type": "execute_result"
    }
   ],
   "source": [
    "b = [ss['lng'], ss['lat']]\n",
    "b"
   ]
  },
  {
   "cell_type": "code",
   "execution_count": 183,
   "metadata": {},
   "outputs": [],
   "source": [
    "a = {\"lng\":144.9617407090102,\"lat\":-37.81526076434004}"
   ]
  },
  {
   "cell_type": "code",
   "execution_count": 185,
   "metadata": {},
   "outputs": [
    {
     "data": {
      "text/plain": [
       "144.9617407090102"
      ]
     },
     "execution_count": 185,
     "metadata": {},
     "output_type": "execute_result"
    }
   ],
   "source": [
    "a['lng']"
   ]
  }
 ],
 "metadata": {
  "kernelspec": {
   "display_name": "Python 3",
   "language": "python",
   "name": "python3"
  },
  "language_info": {
   "codemirror_mode": {
    "name": "ipython",
    "version": 3
   },
   "file_extension": ".py",
   "mimetype": "text/x-python",
   "name": "python",
   "nbconvert_exporter": "python",
   "pygments_lexer": "ipython3",
   "version": "3.6.8"
  }
 },
 "nbformat": 4,
 "nbformat_minor": 2
}
